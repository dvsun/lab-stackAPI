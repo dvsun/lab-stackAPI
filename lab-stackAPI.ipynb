{
 "cells": [
  {
   "cell_type": "code",
   "execution_count": 1,
   "metadata": {
    "ExecuteTime": {
     "end_time": "2019-03-14T11:56:31.602864Z",
     "start_time": "2019-03-14T11:56:31.515584Z"
    }
   },
   "outputs": [],
   "source": [
    "from stackapi import StackAPI"
   ]
  },
  {
   "cell_type": "markdown",
   "metadata": {},
   "source": [
    "* Question 1: You want the questions and the answers of the last month\n",
    "\n",
    "* Question 2: Most voted question today with at least a score of 5 and tagged with 'python'\n",
    "\n",
    "* Question 3: You want the answers with id 6784 and 6473"
   ]
  },
  {
   "cell_type": "code",
   "execution_count": 31,
   "metadata": {
    "ExecuteTime": {
     "end_time": "2019-03-16T14:29:57.135809Z",
     "start_time": "2019-03-16T14:29:46.512677Z"
    }
   },
   "outputs": [],
   "source": [
    "SITE = StackAPI('stackoverflow')\n",
    "question_1 = SITE.fetch('questions', fromdate=1548979200, todate=1551398399)"
   ]
  },
  {
   "cell_type": "code",
   "execution_count": 19,
   "metadata": {
    "ExecuteTime": {
     "end_time": "2019-03-14T12:18:55.008219Z",
     "start_time": "2019-03-14T12:18:50.162676Z"
    }
   },
   "outputs": [],
   "source": [
    "question_1_bis = SITE.fetch('answers', fromdate=1548979200, todate=1552568400, min=5, tagged='python')"
   ]
  },
  {
   "cell_type": "code",
   "execution_count": 25,
   "metadata": {
    "ExecuteTime": {
     "end_time": "2019-03-14T12:21:56.686196Z",
     "start_time": "2019-03-14T12:21:55.654200Z"
    }
   },
   "outputs": [],
   "source": [
    "question_2 = SITE.fetch('questions', fromdate=1552521600, todate=1551398399)"
   ]
  },
  {
   "cell_type": "code",
   "execution_count": 26,
   "metadata": {
    "ExecuteTime": {
     "end_time": "2019-03-14T12:21:56.740987Z",
     "start_time": "2019-03-14T12:21:56.735562Z"
    }
   },
   "outputs": [
    {
     "data": {
      "text/plain": [
       "{'backoff': 0,\n",
       " 'has_more': False,\n",
       " 'page': 1,\n",
       " 'quota_max': 300,\n",
       " 'quota_remaining': 300,\n",
       " 'total': 0,\n",
       " 'items': []}"
      ]
     },
     "execution_count": 26,
     "metadata": {},
     "output_type": "execute_result"
    }
   ],
   "source": [
    "question_2"
   ]
  },
  {
   "cell_type": "code",
   "execution_count": 29,
   "metadata": {
    "ExecuteTime": {
     "end_time": "2019-03-14T12:23:38.798793Z",
     "start_time": "2019-03-14T12:23:37.596177Z"
    }
   },
   "outputs": [],
   "source": [
    "question_3 = SITE.fetch('answers', ids=[ 6784, 6473])"
   ]
  },
  {
   "cell_type": "code",
   "execution_count": 30,
   "metadata": {
    "ExecuteTime": {
     "end_time": "2019-03-14T12:23:39.398974Z",
     "start_time": "2019-03-14T12:23:39.387762Z"
    }
   },
   "outputs": [
    {
     "data": {
      "text/plain": [
       "{'backoff': 0,\n",
       " 'has_more': False,\n",
       " 'page': 1,\n",
       " 'quota_max': 300,\n",
       " 'quota_remaining': 300,\n",
       " 'total': 0,\n",
       " 'items': [{'owner': {'reputation': 21959,\n",
       "    'user_id': 758,\n",
       "    'user_type': 'registered',\n",
       "    'accept_rate': 77,\n",
       "    'profile_image': 'https://www.gravatar.com/avatar/0b4adc19284ed0751844d610555dc6b2?s=128&d=identicon&r=PG',\n",
       "    'display_name': 'Mark Renouf',\n",
       "    'link': 'https://stackoverflow.com/users/758/mark-renouf'},\n",
       "   'is_accepted': False,\n",
       "   'score': 0,\n",
       "   'last_activity_date': 1218291583,\n",
       "   'creation_date': 1218291583,\n",
       "   'answer_id': 6784,\n",
       "   'question_id': 6778}]}"
      ]
     },
     "execution_count": 30,
     "metadata": {},
     "output_type": "execute_result"
    }
   ],
   "source": [
    "question_3"
   ]
  },
  {
   "cell_type": "code",
   "execution_count": null,
   "metadata": {},
   "outputs": [],
   "source": []
  },
  {
   "cell_type": "code",
   "execution_count": null,
   "metadata": {},
   "outputs": [],
   "source": []
  }
 ],
 "metadata": {
  "kernelspec": {
   "display_name": "Python 3",
   "language": "python",
   "name": "python3"
  },
  "language_info": {
   "codemirror_mode": {
    "name": "ipython",
    "version": 3
   },
   "file_extension": ".py",
   "mimetype": "text/x-python",
   "name": "python",
   "nbconvert_exporter": "python",
   "pygments_lexer": "ipython3",
   "version": "3.7.1"
  },
  "varInspector": {
   "cols": {
    "lenName": 16,
    "lenType": 16,
    "lenVar": 40
   },
   "kernels_config": {
    "python": {
     "delete_cmd_postfix": "",
     "delete_cmd_prefix": "del ",
     "library": "var_list.py",
     "varRefreshCmd": "print(var_dic_list())"
    },
    "r": {
     "delete_cmd_postfix": ") ",
     "delete_cmd_prefix": "rm(",
     "library": "var_list.r",
     "varRefreshCmd": "cat(var_dic_list()) "
    }
   },
   "types_to_exclude": [
    "module",
    "function",
    "builtin_function_or_method",
    "instance",
    "_Feature"
   ],
   "window_display": false
  }
 },
 "nbformat": 4,
 "nbformat_minor": 2
}
